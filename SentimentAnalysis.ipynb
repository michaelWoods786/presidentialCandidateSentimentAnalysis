{
 "cells": [
  {
   "cell_type": "code",
   "execution_count": 9,
   "metadata": {},
   "outputs": [
    {
     "name": "stdout",
     "output_type": "stream",
     "text": [
      "2.2.2\n"
     ]
    }
   ],
   "source": [
    "\n",
    "import pandas as pd\n",
    "import requests\n",
    "from textblob import TextBlob\n",
    "import tweepy\n",
    "print(pd.__version__)\n",
    "import numpy as np\n",
    "import matplotlib.pyplot as plt\n",
    "import json\n"
   ]
  },
  {
   "cell_type": "markdown",
   "metadata": {},
   "source": [
    "The below code is used for authorizing me, the user with the twitter api"
   ]
  },
  {
   "cell_type": "code",
   "execution_count": 36,
   "metadata": {},
   "outputs": [
    {
     "name": "stdout",
     "output_type": "stream",
     "text": [
      "\n"
     ]
    }
   ],
   "source": [
    "bearer_token = ''\n",
    "\n",
    "headers = {\n",
    "    'Authorization': f'Bearer {bearer_token}',\n",
    "}\n"
   ]
  },
  {
   "cell_type": "markdown",
   "metadata": {},
   "source": [
    "The below code used TextBlob to analyze the sentiment of the tweets. It categorizes the tweets into postive, neutral and negative\n"
   ]
  },
  {
   "cell_type": "code",
   "execution_count": 7,
   "metadata": {},
   "outputs": [],
   "source": [
    "def get_sentiment(tweets):\n",
    "    sentiments = {'positive': 0, 'neutral': 0, 'negative': 0}\n",
    "    neutralSet = []\n",
    "    for tweet in tweets:\n",
    "        print(\"this is the tweet: \" + str(tweet))\n",
    "        analysis = TextBlob(tweet)\n",
    "        # Determine sentiment\n",
    "        if analysis.sentiment.polarity > 0:\n",
    "            sentiments['positive'] += 1\n",
    "        elif analysis.sentiment.polarity == 0:\n",
    "            sentiments['neutral'] += 1\n",
    "            neutralSet.append(tweet)\n",
    "        else:\n",
    "            sentiments['negative'] += 1\n",
    "    \n",
    "    return (sentiments, neutralSet)"
   ]
  },
  {
   "cell_type": "markdown",
   "metadata": {},
   "source": [
    "I stored the tweets into .txt files so I can save them. Below, I read from the .txt to get the tweets for trump and harris"
   ]
  },
  {
   "cell_type": "code",
   "execution_count": 130,
   "metadata": {},
   "outputs": [],
   "source": [
    "def writeToFile(path, tweets):\n",
    "    with open (path, \"w\", encoding = 'utf-8') as file:\n",
    "        for tweet in tweets:\n",
    "            file.write(str(tweet))\n",
    "            file.write(\"\\n\")\n",
    "file.close()"
   ]
  },
  {
   "cell_type": "code",
   "execution_count": 4,
   "metadata": {},
   "outputs": [],
   "source": [
    "def readFile(path):\n",
    "    tweets = []\n",
    "    with open(path, 'r', encoding='utf-8') as file:\n",
    "        for line in file:\n",
    "            line = line.strip()\n",
    "            if line:\n",
    "                tweets.append(line)\n",
    "\n",
    "    return tweets "
   ]
  },
  {
   "cell_type": "markdown",
   "metadata": {},
   "source": [
    "The below code was for fetching the tweets"
   ]
  },
  {
   "cell_type": "code",
   "execution_count": 70,
   "metadata": {},
   "outputs": [],
   "source": [
    "import requests\n",
    "\n",
    "# Define your bearer token for authentication\n",
    "\n",
    "\n",
    "def create_url(query, max_results=100):\n",
    "    search_url = \"https://api.twitter.com/2/tweets/search/recent\"\n",
    "    query_params = {\n",
    "        'query': query,\n",
    "        'max_results': max_results,\n",
    "        'tweet.fields': 'text,id',  # Include 'id' field to track duplicates\n",
    "    }\n",
    "    return search_url, query_params\n",
    "\n",
    "def connect_to_endpoint(url, headers, params):\n",
    "    response = requests.get(url, headers=headers, params=params)\n",
    "    if response.status_code != 200:\n",
    "        raise Exception(f\"Request returned an error: {response.status_code} {response.text}\")\n",
    "    return response.json()\n",
    "\n",
    "def fetch_tweets(query, max_tweets=1000):\n",
    "    headers = {\"Authorization\": f\"Bearer {bearer_token}\"}\n",
    "    all_tweets = []\n",
    "    tweet_ids = set()\n",
    "    next_token = None\n",
    "\n",
    "    while len(all_tweets) < max_tweets:\n",
    "        url, params = create_url(query)\n",
    "        if next_token:\n",
    "            params['next_token'] = next_token\n",
    "        \n",
    "        json_response = connect_to_endpoint(url, headers, params)\n",
    "        tweets = json_response.get('data', [])\n",
    "        \n",
    "        for tweet in tweets:\n",
    "            if tweet['id'] not in tweet_ids:\n",
    "                tweet_ids.add(tweet['id'])\n",
    "                all_tweets.append(tweet)\n",
    "        \n",
    "        # Check if there's a next_token to continue pagination\n",
    "        if 'meta' in json_response and 'next_token' in json_response['meta']:\n",
    "            next_token = json_response['meta']['next_token']\n",
    "        else:\n",
    "            break  # No more tweets available\n",
    "\n",
    "        if len(all_tweets) >= max_tweets:\n",
    "            break\n",
    "\n",
    "    return all_tweets[:max_tweets]  # Return only the max_tweets requested\n",
    "\n",
    "def print_tweets(tweets, label):\n",
    "    print(f\"\\nTweets about {label}:\")\n",
    "    for tweet in tweets:\n",
    "        print(tweet['text'])\n",
    "\n",
    "# Example usage\n",
    "\n"
   ]
  },
  {
   "cell_type": "markdown",
   "metadata": {},
   "source": [
    "This code was for plotting the sentiment for Trump and Harris, respectively."
   ]
  },
  {
   "cell_type": "code",
   "execution_count": 14,
   "metadata": {},
   "outputs": [],
   "source": [
    "def plot_sentiment_comparison(harris_sentiments, trump_sentiments):\n",
    "    categories = ['positive', 'neutral', 'negative']\n",
    "    harris_values = [harris_sentiments[category] for category in categories]\n",
    "    trump_values = [trump_sentiments[category] for category in categories]\n",
    "\n",
    "    bar_width = 0.35\n",
    "    index = np.arange(len(categories))\n",
    "\n",
    "    fig, ax = plt.subplots()\n",
    "    bar1 = ax.bar(index, harris_values, bar_width, label='Kamala Harris')\n",
    "    bar2 = ax.bar(index + bar_width, trump_values, bar_width, label='Donald Trump')\n",
    "\n",
    "    ax.set_xlabel('Sentiment')\n",
    "    ax.set_ylabel('Number of Tweets')\n",
    "    ax.set_title('Sentiment Comparison between Kamala Harris and Donald Trump')\n",
    "    ax.set_xticks(index + bar_width / 2)\n",
    "    ax.set_xticklabels(categories)\n",
    "    ax.legend()\n",
    "\n",
    "    plt.show()"
   ]
  },
  {
   "cell_type": "code",
   "execution_count": 5,
   "metadata": {},
   "outputs": [],
   "source": [
    "trump_tweets2000 = readFile(\"TrumpTweets.txt\")\n",
    "harris_tweets2000 = readFile(\"HarrisTweets.txt\")\n"
   ]
  },
  {
   "cell_type": "code",
   "execution_count": null,
   "metadata": {},
   "outputs": [],
   "source": [
    "(TrumpSentiment, neutralTweetsTrump) = get_sentiment(trump_tweets2000)\n",
    "(HarrisSentiment, neutralTweetsHarris) = get_sentiment(harris_tweets2000)"
   ]
  },
  {
   "cell_type": "code",
   "execution_count": 11,
   "metadata": {},
   "outputs": [
    {
     "data": {
      "text/plain": [
       "{'positive': 2338, 'neutral': 4410, 'negative': 871}"
      ]
     },
     "execution_count": 11,
     "metadata": {},
     "output_type": "execute_result"
    }
   ],
   "source": [
    "TrumpSentiment"
   ]
  },
  {
   "cell_type": "code",
   "execution_count": 12,
   "metadata": {},
   "outputs": [
    {
     "data": {
      "text/plain": [
       "{'positive': 2061, 'neutral': 4935, 'negative': 789}"
      ]
     },
     "execution_count": 12,
     "metadata": {},
     "output_type": "execute_result"
    }
   ],
   "source": [
    "HarrisSentiment"
   ]
  },
  {
   "cell_type": "code",
   "execution_count": 15,
   "metadata": {},
   "outputs": [
    {
     "data": {
      "image/png": "[encoded data removed]",
      "text/plain": [
       "<Figure size 640x480 with 1 Axes>"
      ]
     },
     "metadata": {},
     "output_type": "display_data"
    }
   ],
   "source": [
    "plot_sentiment_comparison(HarrisSentiment, TrumpSentiment)"
   ]
  },
  {
   "cell_type": "markdown",
   "metadata": {},
   "source": [
    "Overall, I'd say the two presidential candidates are neck and neck. We'll find the final results on Tuesday, so I guess we'll have to wait and see!"
   ]
  }
 ],
 "metadata": {
  "kernelspec": {
   "display_name": "globalEnviron",
   "language": "python",
   "name": "python3"
  },
  "language_info": {
   "codemirror_mode": {
    "name": "ipython",
    "version": 3
   },
   "file_extension": ".py",
   "mimetype": "text/x-python",
   "name": "python",
   "nbconvert_exporter": "python",
   "pygments_lexer": "ipython3",
   "version": "3.10.4"
  }
 },
 "nbformat": 4,
 "nbformat_minor": 2
}
